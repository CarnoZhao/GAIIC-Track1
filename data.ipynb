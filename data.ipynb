{
 "cells": [
  {
   "cell_type": "code",
   "execution_count": null,
   "id": "71e1e01b",
   "metadata": {},
   "outputs": [],
   "source": [
    "import os\n",
    "import itertools\n",
    "import json\n",
    "import pandas as pd\n",
    "import numpy as np\n",
    "\n",
    "data_root=\"./data\"\n",
    "\n",
    "with open(os.path.join(data_root, \"train/attr_to_attrvals.json\")) as f:\n",
    "    atts = json.load(f)\n",
    "    for k in atts:\n",
    "        att = {}\n",
    "        for i, vi in enumerate(sorted(atts[k])):\n",
    "            for vii in vi.split(\"=\"):\n",
    "                att[vii] = i\n",
    "        atts[k] = att\n",
    "        \n",
    "def get_v(t, k):\n",
    "    if (k == \"裤门襟\" and \"裤\" not in t) or (k == \"闭合方式\" and (\"鞋\" not in t and \"靴\" not in t)):\n",
    "        return \"\"\n",
    "    mv = \"\"\n",
    "    for v in atts[k]:\n",
    "        if v in t and len(v) > len(mv):\n",
    "            mv = v\n",
    "    return mv\n",
    "\n",
    "def v2id(k, v):\n",
    "    if v == \"\": return -1\n",
    "    return atts[k][v]\n",
    "\n",
    "all_values = [v.keys() for v in atts.values()]\n",
    "all_values = list(itertools.chain.from_iterable(all_values))\n",
    "all_values.extend([ \"常规厚度\", \"厚度常规\", \"加绒\", \"加绒裤\", \"白鸭绒\", \"2016年\", \"2017年\", \"2018年\", \"2019年\", \"2020年\", \"2021年\", \"2022年\"])\n",
    "print(all_values)\n",
    "with open(os.path.join(data_root, \"train/jieba.dict\"), \"w\", encoding=\"UTF-8\") as f:\n",
    "    for line in all_values:\n",
    "        f.write(line + \"\\n\")"
   ]
  },
  {
   "cell_type": "code",
   "execution_count": null,
   "id": "1e6eee31",
   "metadata": {},
   "outputs": [],
   "source": [
    "text_df = []; feat = []\n",
    "with open(os.path.join(data_root, \"train/train_fine.txt\")) as f:\n",
    "    for l in f:\n",
    "        l = json.loads(l.strip())\n",
    "        img_idx = len(feat)\n",
    "        feat.append(l.pop(\"feature\"))\n",
    "        text_df.append([l[\"title\"], img_idx, l[\"match\"][\"图文\"], [], []])\n",
    "        for k in l[\"key_attr\"]:\n",
    "            text_df[-1][-2].append(k)\n",
    "            text_df[-1][-1].append(l[\"key_attr\"][k])\n",
    "        if l[\"match\"][\"图文\"]:\n",
    "            attrs_remain = [k for k in atts if k not in l[\"key_attr\"]]\n",
    "            for k in attrs_remain:\n",
    "                v = get_v(l[\"title\"], k)\n",
    "                if v:\n",
    "                    text_df[-1][-2].append(k)\n",
    "                    text_df[-1][-1].append(v)\n",
    "\n",
    "            \n",
    "\n",
    "with open(os.path.join(data_root, \"train/train_coarse.txt\")) as f:\n",
    "    for l in f:\n",
    "        l = json.loads(l.strip())\n",
    "        img_idx = len(feat)\n",
    "        feat.append(l.pop(\"feature\"))\n",
    "        text_df.append([l[\"title\"], img_idx, l[\"match\"][\"图文\"], [], []])\n",
    "        if l[\"match\"][\"图文\"]:\n",
    "            for k in atts:\n",
    "                v = get_v(l[\"title\"], k)\n",
    "                if v:\n",
    "                    text_df[-1][-2].append(k)\n",
    "                    text_df[-1][-1].append(v)"
   ]
  },
  {
   "cell_type": "code",
   "execution_count": null,
   "id": "6011a55b",
   "metadata": {},
   "outputs": [],
   "source": [
    "text_df = pd.DataFrame(text_df)\n",
    "text_df.columns = [\"text\", \"img_idx\", \"label\", \"keys\", \"values\"]\n",
    "text_df.to_csv(os.path.join(data_root, \"train/train_text.csv\"), index = False)\n",
    "np.save(os.path.join(data_root, \"train/train.npy\"), np.stack(feat))"
   ]
  },
  {
   "cell_type": "code",
   "execution_count": null,
   "id": "c6ed841e",
   "metadata": {},
   "outputs": [],
   "source": [
    "text_df = []; feat = []; name2id = []\n",
    "with open(os.path.join(data_root, \"preliminary_testB.txt\")) as f:\n",
    "    for l in f:\n",
    "        l = json.loads(l.strip())\n",
    "        img_idx = len(feat)\n",
    "        feat.append(l.pop(\"feature\"))\n",
    "        name2id.append([l['img_name'], img_idx])\n",
    "        text_df.append([l[\"title\"], img_idx, 0, [], []])\n",
    "        for k in l[\"query\"]:\n",
    "            if k == \"图文\": continue\n",
    "            v = get_v(l[\"title\"], k)\n",
    "            text_df[-1][-2].append(k)\n",
    "            text_df[-1][-1].append(v)"
   ]
  },
  {
   "cell_type": "code",
   "execution_count": null,
   "id": "79c35803",
   "metadata": {},
   "outputs": [],
   "source": [
    "text_df = pd.DataFrame(text_df)\n",
    "text_df.columns = [\"text\", \"img_idx\", \"label\", \"keys\", \"values\"]\n",
    "text_df.to_csv(os.path.join(data_root, \"testB_text.csv\"), index = False)\n",
    "name2id = pd.DataFrame(name2id)\n",
    "name2id.columns = [\"img_name\", \"img_idx\"]\n",
    "name2id.to_csv(os.path.join(data_root, \"name_to_id_B.csv\"), index = False)\n",
    "np.save(os.path.join(data_root, \"testB.npy\"), np.stack(feat))"
   ]
  }
 ],
 "metadata": {
  "interpreter": {
   "hash": "51c2cb435fa0799f3ff026ddb2c58ef3b6978376f36f8014d18ac4076afd62d9"
  },
  "kernelspec": {
   "display_name": "Python 3.7.10 64-bit ('torch': conda)",
   "name": "python3"
  },
  "language_info": {
   "codemirror_mode": {
    "name": "ipython",
    "version": 3
   },
   "file_extension": ".py",
   "mimetype": "text/x-python",
   "name": "python",
   "nbconvert_exporter": "python",
   "pygments_lexer": "ipython3",
   "version": "3.7.10"
  }
 },
 "nbformat": 4,
 "nbformat_minor": 5
}
